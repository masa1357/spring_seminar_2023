{
  "cells": [
    {
      "cell_type": "markdown",
      "metadata": {
        "id": "wJU2RPpSvlQT"
      },
      "source": [
        "# 12：ハイパーパラメータの探索と検証データ\n",
        "\n",
        "\n",
        "---\n",
        "## 目的\n",
        "CNNを用いたMNISTデータセット文字認識を通じて，ハイパーパラメータの探索・検証および検証データの役割について理解する．\n",
        "\n",
        "また，ここではGPUを用いたネットワークの計算を行う．\n"
      ]
    },
    {
      "cell_type": "markdown",
      "metadata": {
        "id": "5rQGfxWYK_4O"
      },
      "source": [
        "## 準備\n",
        "\n",
        "### Google Colaboratoryの設定確認・変更\n",
        "本チュートリアルではPyTorchを利用してニューラルネットワークの実装を確認，学習および評価を行います．\n",
        "**GPUを用いて処理を行うために，上部のメニューバーの「ランタイム」→「ランタイムのタイプを変更」からハードウェアアクセラレータをGPUにしてください．**\n"
      ]
    },
    {
      "cell_type": "markdown",
      "metadata": {
        "id": "Xo4jjpmwvle1"
      },
      "source": [
        "## モジュールのインポート\n",
        "はじめに必要なモジュールをインポートする．\n",
        "\n",
        "### GPUの確認\n",
        "GPUを使用した計算が可能かどうかを確認します．\n",
        "\n",
        "`GPU availability: True`と表示されれば，GPUを使用した計算をPyTorchで行うことが可能です．\n",
        "Falseとなっている場合は，上記の「Google Colaboratoryの設定確認・変更」に記載している手順にしたがって，設定を変更した後に，モジュールのインポートから始めてください．\n"
      ]
    },
    {
      "cell_type": "code",
      "execution_count": 1,
      "metadata": {
        "id": "iCeaCulfvlao",
        "colab": {
          "base_uri": "https://localhost:8080/"
        },
        "outputId": "5a738e47-d0ec-42a1-ca56-fd0df7ccdb41"
      },
      "outputs": [
        {
          "output_type": "stream",
          "name": "stdout",
          "text": [
            "Use CUDA: True\n"
          ]
        }
      ],
      "source": [
        "# モジュールのインポート\n",
        "import os\n",
        "from time import time\n",
        "import numpy as np\n",
        "import torch\n",
        "import torch.nn as nn\n",
        "\n",
        "import torchvision\n",
        "import torchvision.transforms as transforms\n",
        "\n",
        "import torchsummary\n",
        "\n",
        "import gzip\n",
        "from random import randint\n",
        "\n",
        "import matplotlib.pyplot as plt\n",
        "\n",
        "# GPUの確認\n",
        "use_cuda = torch.cuda.is_available()\n",
        "print('Use CUDA:', use_cuda)"
      ]
    },
    {
      "cell_type": "markdown",
      "metadata": {
        "id": "9nbdiIyZId5i"
      },
      "source": [
        "## データセットのダウンロードと読み込みと学習サンプルの削減\n",
        "\n",
        "\n",
        "まずはじめに，`wget`コマンドを使用して，MNISTデータセットをダウンロードします．"
      ]
    },
    {
      "cell_type": "code",
      "execution_count": 2,
      "metadata": {
        "id": "N1LbRsqxIfoF"
      },
      "outputs": [],
      "source": [
        "!wget -q http://yann.lecun.com/exdb/mnist/train-images-idx3-ubyte.gz -O train-images-idx3-ubyte.gz\n",
        "!wget -q http://yann.lecun.com/exdb/mnist/train-labels-idx1-ubyte.gz -O train-labels-idx1-ubyte.gz\n",
        "!wget -q http://yann.lecun.com/exdb/mnist/t10k-images-idx3-ubyte.gz -O t10k-images-idx3-ubyte.gz\n",
        "!wget -q http://yann.lecun.com/exdb/mnist/t10k-labels-idx1-ubyte.gz -O t10k-labels-idx1-ubyte.gz"
      ]
    },
    {
      "cell_type": "markdown",
      "metadata": {
        "id": "K5R2ghpzIqyf"
      },
      "source": [
        "次に，ダウンロードしたファイルからデータを読み込みます．詳細は前回までのプログラムを確認してください．\n",
        "\n",
        "今回は2次元の画像データとしてMNISTデータセットを扱うため，\n",
        "データを`(チャンネル, 縦，横)`の形に並べ替えます．"
      ]
    },
    {
      "cell_type": "code",
      "execution_count": 3,
      "metadata": {
        "id": "JlChw880IqDC",
        "colab": {
          "base_uri": "https://localhost:8080/"
        },
        "outputId": "a2f4892d-2055-493d-cb16-8b5a5888d75f"
      },
      "outputs": [
        {
          "output_type": "stream",
          "name": "stdout",
          "text": [
            "(60000, 1, 28, 28) (60000,)\n",
            "(10000, 1, 28, 28) (10000,)\n"
          ]
        }
      ],
      "source": [
        "# load images\n",
        "with gzip.open('train-images-idx3-ubyte.gz', 'rb') as f:\n",
        "    x_train = np.frombuffer(f.read(), np.uint8, offset=16)\n",
        "x_train = x_train.reshape(-1, 784)\n",
        "\n",
        "with gzip.open('t10k-images-idx3-ubyte.gz', 'rb') as f:\n",
        "    x_test = np.frombuffer(f.read(), np.uint8, offset=16)\n",
        "x_test = x_test.reshape(-1, 784)\n",
        "\n",
        "with gzip.open('train-labels-idx1-ubyte.gz', 'rb') as f:\n",
        "    y_train = np.frombuffer(f.read(), np.uint8, offset=8)\n",
        "\n",
        "with gzip.open('t10k-labels-idx1-ubyte.gz', 'rb') as f:\n",
        "    y_test = np.frombuffer(f.read(), np.uint8, offset=8)\n",
        "\n",
        "x_train = x_train.reshape(-1, 1, 28, 28)\n",
        "x_test = x_test.reshape(-1, 1, 28, 28)\n",
        "\n",
        "print(x_train.shape, y_train.shape)\n",
        "print(x_test.shape, y_test.shape)"
      ]
    },
    {
      "cell_type": "markdown",
      "metadata": {
        "id": "G8w7yul9UBOc"
      },
      "source": [
        "## 検証データの作成\n",
        "\n",
        "ネットワークの学習やモデルの定義には多くのハイパーパラメータが存在します．例えば，\n",
        "* ネットワークのハイパーパラメータ\n",
        "  * 中間層の層数\n",
        "  * 中間層のユニット数\n",
        "  * Dropoutを適用するかどうか（Dropoutを用いる場所やdropout ratio）\n",
        "  * Batch Normalizationを適用するかどうか\n",
        "\n",
        "* 学習のハイパーパラメータ\n",
        "  * 学習率\n",
        "  * 学習回数\n",
        "  * ミニバッチサイズ\n",
        "\n",
        "などが挙げられます．\n",
        "\n",
        "最適なハイパーパラメータを決定するために使用するデータを**検証データ（validation data）**と呼びます．\n",
        "\n",
        "MNISTデータセットには学習データ（train data）とテストデータ（test data）しか存在しません．このように，専用の検証データが存在しないデータセットや個人が作成したオリジナルのデータセットでは，学習データの一部を検証データとして使用します．\n",
        "\n",
        "以下では，MNISTデータセットの学習データを分割し，学習および検証データを作成します．\n",
        "まず，検証データに使用するデータの割合を`validation_ratio`として定義します．\n",
        "今回は学習データの20%を検証データとして使用することとし，0.2と指定します．\n",
        "この割合に基づいて，学習データの20%となるサンプル数を`n_val`として計算します．\n",
        "\n",
        "その後，学習および検証データになるよう，データを分割します．\n",
        "\n",
        "実行すると，60000枚の学習サンプルの20%である12000枚が検証データ，残りの80%の48000枚が学習データになるよう分割されていることがわかります．\n"
      ]
    },
    {
      "cell_type": "code",
      "execution_count": 4,
      "metadata": {
        "id": "cnMbRmPTUBUn",
        "colab": {
          "base_uri": "https://localhost:8080/"
        },
        "outputId": "63f74e5a-2172-4efb-b42c-926d0ca48f69"
      },
      "outputs": [
        {
          "output_type": "stream",
          "name": "stdout",
          "text": [
            "train      : (48000, 1, 28, 28) (48000,)\n",
            "validation : (12000, 1, 28, 28) (12000,)\n",
            "test       : (10000, 1, 28, 28) (10000,)\n"
          ]
        }
      ],
      "source": [
        "validation_ratio = 0.2   # 検証に使用するデータの割合\n",
        "n_train_original = x_train.shape[0]\n",
        "n_val = int(n_train_original * validation_ratio)\n",
        "\n",
        "# 検証データ\n",
        "x_val = x_train[0:n_val]\n",
        "y_val = y_train[0:n_val]\n",
        "\n",
        "# 学習データ\n",
        "x_train = x_train[n_val:]\n",
        "y_train = y_train[n_val:]\n",
        "\n",
        "print(\"train      :\", x_train.shape, y_train.shape)\n",
        "print(\"validation :\", x_val.shape, y_val.shape)\n",
        "print(\"test       :\", x_test.shape, y_test.shape)"
      ]
    },
    {
      "cell_type": "markdown",
      "metadata": {
        "id": "xgDd3iX2zmSV"
      },
      "source": [
        "## ネットワークモデルの定義\n",
        "畳み込みニューラルネットワークを定義します．\n",
        "\n",
        "ここでは，畳み込み層1層，全結合層2層から構成されるネットワークとします．\n",
        "\n",
        "ここでは，最適なネットワーク構造をハイパーパラメータとして探索するために，ネットワーク構造のパラメータをクラスの引数として定義し，任意のサイズのネットワークを作成できるようにクラス定義を行います．\n",
        "\n",
        "1層目の畳み込み層は入力チャンネル数を`in_channels`，出力する特徴マップ数を`out_channels`，畳み込むフィルタサイズを`kernel_size`$\\times$`kernel_size`として定義します．\n",
        "1つ目の全結合層は入力ユニット数は畳み込みの特徴マップ数から自動で計算し，出力を`hidden_size`として定義します．\n",
        "これらの各層の構成を`__init__`関数で定義します．\n",
        "\n",
        "次に，`forward`関数では，定義した層を接続して処理するように記述します．"
      ]
    },
    {
      "cell_type": "code",
      "execution_count": 58,
      "metadata": {
        "id": "TNHnp_YczmY3"
      },
      "outputs": [],
      "source": [
        "class CNN(nn.Module):\n",
        "    def __init__(self, in_channels=1, out_channels= 64, kernel_size=3, hidden_size=128):\n",
        "        super().__init__()\n",
        "        self.conv = nn.Conv2d(in_channels, out_channels, kernel_size=kernel_size, stride=1, padding=1)\n",
        "        self.relu = nn.ReLU()\n",
        "        self.pool = nn.MaxPool2d(2, 2)\n",
        "        self.l1 = nn.Linear(int(28/2) * int(28/2) * out_channels, hidden_size)\n",
        "        self.l2 = nn.Linear(hidden_size, 10)\n",
        "    \n",
        "    def forward(self, x):\n",
        "        h = self.relu(self.conv(x))\n",
        "        h = self.pool(h)\n",
        "        h = h.view(h.size()[0], -1)\n",
        "        h = self.relu(self.l1(h))\n",
        "        h = self.l2(h)\n",
        "        return h"
      ]
    },
    {
      "cell_type": "markdown",
      "metadata": {
        "id": "zIPMneA4UMES"
      },
      "source": [
        "## 学習およびハイパーパラメータ探索の準備\n",
        "\n"
      ]
    },
    {
      "cell_type": "markdown",
      "metadata": {
        "id": "zEpMENsiUMI2"
      },
      "source": [
        "\n",
        "### 探索時に共通するパラメータの設定\n",
        "\n",
        "まずはじめに，探索時に共通するパラメータを定義します．\n",
        "具体的には，入力層のユニット数`input_size`および出力層のユニット数`output_size`は，探索時には共通であるため，事前に定義しておきます．\n",
        "また，学習，検証データのサンプル数もすでに決まっているため，変数として定義しておきます．"
      ]
    },
    {
      "cell_type": "code",
      "execution_count": 59,
      "metadata": {
        "id": "cqITHAy3UMQw"
      },
      "outputs": [],
      "source": [
        "input_size = x_train.shape[1]\n",
        "output_size = 10\n",
        "\n",
        "num_train_data = x_train.shape[0]\n",
        "num_val_data = x_val.shape[0]\n",
        "num_test_data = x_test.shape[0]"
      ]
    },
    {
      "cell_type": "markdown",
      "metadata": {
        "id": "A03OafHqUMXn"
      },
      "source": [
        "### 探索するパラメータの設定\n",
        "\n",
        "次に，検証データを用いて最適な値を求めたいパラメータを定義します．\n",
        "\n",
        "ここでは，畳み込み層のチャンネル数（``）のユニット数の最適な値を`channel_list = [32, 64, 128, 256]`の中から求めるものとし，他のパラメータは固定します．\n",
        "\n",
        "**下部にある課題ではその他のパラメータを探索しますが，その他のパラメータをリストとして定義して，探索しましょう．**\n",
        "\n",
        "また，パラメータの探索には複数回の学習を行う必要があり計算に多くの時間を要します．\n",
        "ここでは，実習中の計算時間削減のために，学習エポック数を10と小さい値に設定します．"
      ]
    },
    {
      "cell_type": "code",
      "execution_count": 60,
      "metadata": {
        "id": "-gnZyXtcUMc3"
      },
      "outputs": [],
      "source": [
        "n_hidden = 256\n",
        "n_hidden_list = [16, 32, 64, 128, 256]\n",
        "\n",
        "channel_size = 48\n",
        "#channel_list = [48, 64, 80, 96, 128]\n",
        "\n",
        "batch_size = 100\n",
        "n_iter = num_train_data / batch_size\n",
        "\n",
        "#learning_rate = 0.01\n",
        "learning_rate_list = [0.1, 0.05, 0.01, 0.005, 0.001]\n",
        "\n",
        "epoch_num = 10\n",
        "\n",
        "learning_rate = 0.01"
      ]
    },
    {
      "cell_type": "markdown",
      "metadata": {
        "id": "ZmDpq4r9Ujsj"
      },
      "source": [
        "## ハイパーパラメータ探索\n",
        "\n",
        "ハイパーパラメータ探索を行います．\n",
        "\n",
        "まず，各パラメータでの結果を保存するためのリスト`param_search_list`を作成します．\n",
        "\n",
        "次に，for文を用いて探索したいハイパーパラメータを一つづつ指定し，ネットワークの学習と検証データでの精度を求めます．\n",
        "ネットワークの学習プログラムは前回までのもの同様のため詳細は割愛します．\n",
        "\n",
        "学習が終了すると，探索したパラメータの値やその時の誤差および精度の推移のデータを辞書型オブジェクト`result`に格納し，それを`param_search_list`に保存します．\n",
        "\n",
        "これを繰り返すことで，各パラメータの値を用いた場合の精度や学習推移を確認比較することが可能となり，より精度の高いネットワークを構築するためのあたりをつけることができます．"
      ]
    },
    {
      "cell_type": "code",
      "execution_count": 61,
      "metadata": {
        "id": "jkOTUB2HUjyN",
        "colab": {
          "base_uri": "https://localhost:8080/"
        },
        "outputId": "494de110-891e-43b3-8d63-d0595a50d9dc"
      },
      "outputs": [
        {
          "output_type": "stream",
          "name": "stdout",
          "text": [
            "epoch: 1, mean loss: 199.67228851815065, mean accuracy: 0.1076875\n",
            "epoch: 2, mean loss: 2.303437799712022, mean accuracy: 0.10635416666666667\n",
            "epoch: 3, mean loss: 2.3040385951598483, mean accuracy: 0.1068125\n",
            "epoch: 4, mean loss: 2.3037523249785106, mean accuracy: 0.10645833333333334\n",
            "epoch: 5, mean loss: 2.30349893818299, mean accuracy: 0.1076875\n",
            "epoch: 6, mean loss: 2.3032782544692356, mean accuracy: 0.1096875\n",
            "epoch: 7, mean loss: 2.303664011259874, mean accuracy: 0.10672916666666667\n",
            "epoch: 8, mean loss: 2.303290675083796, mean accuracy: 0.10827083333333333\n",
            "epoch: 9, mean loss: 2.3034663279851277, mean accuracy: 0.10777083333333333\n",
            "epoch: 10, mean loss: 2.303476608792941, mean accuracy: 0.1076875\n",
            "0.1 256 tensor(0.1077, device='cuda:0') 0.11258333333333333\n",
            "epoch: 1, mean loss: 173.5453849469622, mean accuracy: 0.1095\n",
            "epoch: 2, mean loss: 2.3024101818601292, mean accuracy: 0.1093125\n",
            "epoch: 3, mean loss: 2.3024871309598285, mean accuracy: 0.10872916666666667\n",
            "epoch: 4, mean loss: 2.3024918590982755, mean accuracy: 0.1095625\n",
            "epoch: 5, mean loss: 2.302546368042628, mean accuracy: 0.11102083333333333\n",
            "epoch: 6, mean loss: 2.302394813299179, mean accuracy: 0.1098125\n",
            "epoch: 7, mean loss: 2.3025591522455215, mean accuracy: 0.10902083333333333\n",
            "epoch: 8, mean loss: 2.302446578939756, mean accuracy: 0.10808333333333334\n",
            "epoch: 9, mean loss: 2.3025267690420153, mean accuracy: 0.11033333333333334\n",
            "epoch: 10, mean loss: 2.3024020060896873, mean accuracy: 0.1100625\n",
            "0.05 256 tensor(0.1101, device='cuda:0') 0.11258333333333333\n",
            "epoch: 1, mean loss: 5.319988322599481, mean accuracy: 0.7320625\n",
            "epoch: 2, mean loss: 0.3297331445850432, mean accuracy: 0.8954583333333334\n",
            "epoch: 3, mean loss: 0.2721189248530815, mean accuracy: 0.91475\n",
            "epoch: 4, mean loss: 0.23296507072324554, mean accuracy: 0.9249791666666667\n",
            "epoch: 5, mean loss: 0.20178062494378537, mean accuracy: 0.9357083333333334\n",
            "epoch: 6, mean loss: 0.18566854092447707, mean accuracy: 0.9404791666666666\n",
            "epoch: 7, mean loss: 0.15983210012782365, mean accuracy: 0.9488333333333333\n",
            "epoch: 8, mean loss: 0.13716874926855477, mean accuracy: 0.9560416666666667\n",
            "epoch: 9, mean loss: 0.15294335858585933, mean accuracy: 0.9495625\n",
            "epoch: 10, mean loss: 0.14268565768919264, mean accuracy: 0.952875\n",
            "0.01 256 tensor(0.9529, device='cuda:0') 0.9369166666666666\n",
            "epoch: 1, mean loss: 4.864864521939308, mean accuracy: 0.6366875\n",
            "epoch: 2, mean loss: 0.21446245128754526, mean accuracy: 0.933125\n",
            "epoch: 3, mean loss: 0.152592892300648, mean accuracy: 0.9532916666666666\n",
            "epoch: 4, mean loss: 0.11815352666308172, mean accuracy: 0.9635208333333334\n",
            "epoch: 5, mean loss: 0.09387965977657586, mean accuracy: 0.9700833333333333\n",
            "epoch: 6, mean loss: 0.07711354728089645, mean accuracy: 0.9748541666666667\n",
            "epoch: 7, mean loss: 0.07238438532949658, mean accuracy: 0.9764375\n",
            "epoch: 8, mean loss: 0.05917932362838959, mean accuracy: 0.9807708333333334\n",
            "epoch: 9, mean loss: 0.05080063352312815, mean accuracy: 0.9828333333333333\n",
            "epoch: 10, mean loss: 0.038199526643923794, mean accuracy: 0.987\n",
            "0.005 256 tensor(0.9870, device='cuda:0') 0.9636666666666667\n",
            "epoch: 1, mean loss: 1.1689332664808414, mean accuracy: 0.9309583333333333\n",
            "epoch: 2, mean loss: 0.05297503778419923, mean accuracy: 0.9834375\n",
            "epoch: 3, mean loss: 0.02905907097471451, mean accuracy: 0.9913333333333333\n",
            "epoch: 4, mean loss: 0.016454595875741992, mean accuracy: 0.9952291666666667\n",
            "epoch: 5, mean loss: 0.008877684911294637, mean accuracy: 0.9977708333333334\n",
            "epoch: 6, mean loss: 0.003631124057634831, mean accuracy: 0.9996041666666666\n",
            "epoch: 7, mean loss: 0.0020606352727857787, mean accuracy: 0.999875\n",
            "epoch: 8, mean loss: 0.0011410172594726949, mean accuracy: 1.0\n",
            "epoch: 9, mean loss: 0.000824555315989528, mean accuracy: 1.0\n",
            "epoch: 10, mean loss: 0.0006736056145787946, mean accuracy: 1.0\n",
            "0.001 256 tensor(1., device='cuda:0') 0.9835\n"
          ]
        }
      ],
      "source": [
        "param_search_list = []\n",
        "\n",
        "# 誤差関数の設定\n",
        "criterion = nn.CrossEntropyLoss()\n",
        "if use_cuda:\n",
        "    criterion.cuda()\n",
        "\n",
        "channel_size = 48\n",
        "\n",
        "for learning_rate in learning_rate_list:\n",
        "#for n_hidden in n_hidden_list:\n",
        "#for channel_size in channel_list:\n",
        "    model = CNN(out_channels=channel_size, hidden_size=n_hidden) # kernel_size <-> num_kernel 変更は失敗，　out_channelsで成功\n",
        "    if use_cuda:\n",
        "        model.cuda()\n",
        "\n",
        "    optimizer = torch.optim.SGD(model.parameters(), lr=learning_rate, momentum=0.9)\n",
        "\n",
        "    epoch_list = []\n",
        "    train_loss_list = []\n",
        "    train_accuracy_list = []\n",
        "    val_accuracy_list = []\n",
        "\n",
        "    # ネットワークを学習モードへ変更\n",
        "    model.train()\n",
        "\n",
        "    iteration = 1\n",
        "    for epoch in range(1, epoch_num+1):\n",
        "        count, sum_loss = 0.0, 0.0\n",
        "        \n",
        "        perm = np.random.permutation(num_train_data)\n",
        "        for i in range(0, num_train_data, batch_size):\n",
        "            x_batch = x_train[perm[i:i+batch_size]]\n",
        "            y_batch = y_train[perm[i:i+batch_size]]\n",
        "\n",
        "            x_batch = torch.from_numpy(x_batch).type(torch.float32)\n",
        "            y_batch = torch.from_numpy(y_batch).type(torch.int64)\n",
        "\n",
        "            if use_cuda:\n",
        "                x_batch = x_batch.cuda()\n",
        "                y_batch = y_batch.cuda()\n",
        "\n",
        "            y = model(x_batch)\n",
        "\n",
        "            loss = criterion(y, y_batch)\n",
        "            \n",
        "            model.zero_grad()\n",
        "            loss.backward()\n",
        "            optimizer.step()\n",
        "\n",
        "            sum_loss += loss.item()\n",
        "            pred = torch.argmax(y, dim=1)\n",
        "            count += torch.sum(pred == y_batch)\n",
        "\n",
        "            iteration += 1\n",
        "            \n",
        "        # 検証データでの精度の確認\n",
        "        val_correct_count = 0\n",
        "        for i in range(num_val_data):\n",
        "            input = x_val[i:i+1]\n",
        "            label = y_val[i:i+1]\n",
        "            input = torch.from_numpy(input).type(torch.float32)\n",
        "            label = torch.from_numpy(label).type(torch.int64)\n",
        "            if use_cuda:\n",
        "                input = input.cuda()\n",
        "                label = label.cuda()\n",
        "            y = model(input)\n",
        "            pred = torch.argmax(y)\n",
        "            if pred == label:\n",
        "              val_correct_count += 1\n",
        "\n",
        "        # 学習途中のlossと精度の保存\n",
        "        epoch_list.append(epoch)\n",
        "        train_loss_list.append(sum_loss / num_train_data)\n",
        "        train_accuracy_list.append(count / num_train_data)\n",
        "        val_accuracy_list.append(val_correct_count / num_val_data)\n",
        "            \n",
        "        print(\"epoch: {}, mean loss: {}, mean accuracy: {}\".format(epoch,\n",
        "                                                                  sum_loss / n_iter,\n",
        "                                                                  count.item() / num_train_data))\n",
        "\n",
        "    # 探索した結果の保存\n",
        "    result = {'lr': learning_rate, 'n_hidden': n_hidden,   # channel_size <-> n_hidden <-> learning_rate\n",
        "              'val_acc': val_accuracy_list,\n",
        "              'train_acc': train_accuracy_list,\n",
        "              'train_loss': train_loss_list}\n",
        "    param_search_list.append(result)\n",
        "    print(result['lr'], result['n_hidden'], result['train_acc'][-1], result['val_acc'][-1]) #channel_size <-> n_hidden ,=. learning_rate"
      ]
    },
    {
      "cell_type": "markdown",
      "metadata": {
        "id": "119eIrSmzmw6"
      },
      "source": [
        "## 探索結果の確認\n",
        "\n",
        "`param_search_list`に保存しておいた各ハイパーパラメータに対する結果を確認します．\n",
        "\n",
        "まず，各結果の数値をprintします．\n",
        "その後，各パラメータでの学習推移（検証データ）をプロットし比較します．"
      ]
    },
    {
      "cell_type": "code",
      "execution_count": 63,
      "metadata": {
        "id": "yoYVMRGLzm1I",
        "colab": {
          "base_uri": "https://localhost:8080/",
          "height": 536
        },
        "outputId": "41e83ead-8870-464b-c2d1-7f8d22ded815"
      },
      "outputs": [
        {
          "output_type": "stream",
          "name": "stdout",
          "text": [
            "lr: 0.1 n_hidden 256 train accuracy: tensor(0.1077, device='cuda:0') validation accuracy: 0.11258333333333333\n",
            "lr: 0.05 n_hidden 256 train accuracy: tensor(0.1101, device='cuda:0') validation accuracy: 0.11258333333333333\n",
            "lr: 0.01 n_hidden 256 train accuracy: tensor(0.9529, device='cuda:0') validation accuracy: 0.9369166666666666\n",
            "lr: 0.005 n_hidden 256 train accuracy: tensor(0.9870, device='cuda:0') validation accuracy: 0.9636666666666667\n",
            "lr: 0.001 n_hidden 256 train accuracy: tensor(1., device='cuda:0') validation accuracy: 0.9835\n"
          ]
        },
        {
          "output_type": "display_data",
          "data": {
            "text/plain": [
              "<Figure size 640x480 with 1 Axes>"
            ],
            "image/png": "[encoded data removed]"
          },
          "metadata": {}
        }
      ],
      "source": [
        "# 学習結果の表示\n",
        "for ps in param_search_list:\n",
        "    print(\"lr:\", ps['lr'],\n",
        "          \"n_hidden\", ps['n_hidden'],    # channel_size <-> n_hidden <-> learning_rate\n",
        "          \"train accuracy:\", ps['train_acc'][-1],\n",
        "          \"validation accuracy:\", ps['val_acc'][-1])\n",
        "\n",
        "# グラフプロット\n",
        "plt.figure()\n",
        "for ps in param_search_list:\n",
        "    plt.plot(ps['val_acc'], label='learning rate=%f' % ps['lr'])   # channel_size <-> n_hidden <->learning_rate\n",
        "plt.xlabel(\"epoch\")     # x軸ラベル\n",
        "plt.ylabel(\"accuracy\")  # y軸ラベル\n",
        "plt.legend()            # 凡例\n",
        "plt.show()"
      ]
    },
    {
      "cell_type": "code",
      "source": [
        "for ps in param_search_list:\n",
        "  print(ps)\n",
        "  print(ps['lr'])\n"
      ],
      "metadata": {
        "colab": {
          "base_uri": "https://localhost:8080/"
        },
        "id": "BYaMaR5q4KHx",
        "outputId": "d62f9bf3-a8a1-49b5-84bb-a36bdfa6163d"
      },
      "execution_count": 18,
      "outputs": [
        {
          "output_type": "stream",
          "name": "stdout",
          "text": [
            "{'lr': 0.01, 'channel_size': 48, 'val_acc': [0.11258333333333333, 0.11258333333333333, 0.11258333333333333, 0.11258333333333333, 0.11258333333333333, 0.11258333333333333, 0.11258333333333333, 0.11258333333333333, 0.11258333333333333, 0.11258333333333333], 'train_acc': [tensor(0.1095, device='cuda:0'), tensor(0.1123, device='cuda:0'), tensor(0.1123, device='cuda:0'), tensor(0.1123, device='cuda:0'), tensor(0.1123, device='cuda:0'), tensor(0.1123, device='cuda:0'), tensor(0.1123, device='cuda:0'), tensor(0.1123, device='cuda:0'), tensor(0.1123, device='cuda:0'), tensor(0.1123, device='cuda:0')], 'train_loss': [0.0481720623721679, 0.023015808631976446, 0.023015454108516374, 0.023015731702248254, 0.02301517553627491, 0.023016139427820843, 0.02301524621248245, 0.023016344959537187, 0.023015538319945336, 0.023015695308645567]}\n",
            "0.01\n",
            "{'lr': 0.01, 'channel_size': 48, 'val_acc': [0.8735833333333334, 0.9055833333333333, 0.9173333333333333, 0.9044166666666666, 0.9250833333333334, 0.9263333333333333, 0.90425, 0.926, 0.9251666666666667, 0.9205833333333333], 'train_acc': [tensor(0.7863, device='cuda:0'), tensor(0.8962, device='cuda:0'), tensor(0.9145, device='cuda:0'), tensor(0.9228, device='cuda:0'), tensor(0.9264, device='cuda:0'), tensor(0.9335, device='cuda:0'), tensor(0.9332, device='cuda:0'), tensor(0.9376, device='cuda:0'), tensor(0.9404, device='cuda:0'), tensor(0.9443, device='cuda:0')], 'train_loss': [0.03252551526638369, 0.00347673054644838, 0.002869912370418509, 0.0025820122242051487, 0.002473651504764954, 0.0022049893570753433, 0.0022320752198963117, 0.0020698006860523795, 0.001994816740974784, 0.0018644553672056644]}\n",
            "0.01\n",
            "{'lr': 0.01, 'channel_size': 48, 'val_acc': [0.734, 0.8074166666666667, 0.8121666666666667, 0.8261666666666667, 0.8434166666666667, 0.84375, 0.8315, 0.8324166666666667, 0.8389166666666666, 0.8520833333333333], 'train_acc': [tensor(0.5730, device='cuda:0'), tensor(0.7666, device='cuda:0'), tensor(0.7950, device='cuda:0'), tensor(0.8150, device='cuda:0'), tensor(0.8270, device='cuda:0'), tensor(0.8322, device='cuda:0'), tensor(0.8370, device='cuda:0'), tensor(0.8397, device='cuda:0'), tensor(0.8401, device='cuda:0'), tensor(0.8397, device='cuda:0')], 'train_loss': [0.03224815478300055, 0.007142474971090754, 0.0064666959556440515, 0.005956940959518154, 0.005620079337619245, 0.005435447432721655, 0.005284568152700861, 0.00519342251184086, 0.00515511572919786, 0.0051423826379080615]}\n",
            "0.01\n",
            "{'lr': 0.01, 'channel_size': 48, 'val_acc': [0.9376666666666666, 0.9455833333333333, 0.9551666666666667, 0.9313333333333333, 0.9506666666666667, 0.9586666666666667, 0.9538333333333333, 0.95975, 0.9613333333333334, 0.9583333333333334], 'train_acc': [tensor(0.8903, device='cuda:0'), tensor(0.9518, device='cuda:0'), tensor(0.9635, device='cuda:0'), tensor(0.9523, device='cuda:0'), tensor(0.9608, device='cuda:0'), tensor(0.9681, device='cuda:0'), tensor(0.9714, device='cuda:0'), tensor(0.9727, device='cuda:0'), tensor(0.9727, device='cuda:0'), tensor(0.9752, device='cuda:0')], 'train_loss': [0.01429340805625543, 0.0016416400534993347, 0.0012494271729762356, 0.0016023753604386003, 0.001334319789990938, 0.0010657993561568825, 0.000981179685011739, 0.0009465556231734809, 0.0009618455294281981, 0.0008687052274993524]}\n",
            "0.01\n",
            "{'lr': 0.01, 'channel_size': 48, 'val_acc': [0.8731666666666666, 0.8891666666666667, 0.9040833333333333, 0.9055833333333333, 0.8998333333333334, 0.9209166666666667, 0.92375, 0.9276666666666666, 0.9278333333333333, 0.9400833333333334], 'train_acc': [tensor(0.7397, device='cuda:0'), tensor(0.8768, device='cuda:0'), tensor(0.8928, device='cuda:0'), tensor(0.9065, device='cuda:0'), tensor(0.9140, device='cuda:0'), tensor(0.9197, device='cuda:0'), tensor(0.9231, device='cuda:0'), tensor(0.9280, device='cuda:0'), tensor(0.9308, device='cuda:0'), tensor(0.9363, device='cuda:0')], 'train_loss': [0.10147203777947773, 0.0039419869737078745, 0.0033309194603934884, 0.002924429248397549, 0.0026763698489715654, 0.0024886679239571096, 0.002375764039112255, 0.002229999168931196, 0.0021545396176322054, 0.001966125487194707]}\n",
            "0.01\n"
          ]
        }
      ]
    },
    {
      "cell_type": "markdown",
      "metadata": {
        "id": "vH36DIdfXWR5"
      },
      "source": [
        "## 課題\n",
        "1. 他のパラメータについても探索をして最適な値を見つけよう\n",
        "2. 複数種類のパラメータの最適な組み合わせを求めよう"
      ]
    },
    {
      "cell_type": "code",
      "execution_count": 9,
      "metadata": {
        "id": "MjS-WptIg9Pf"
      },
      "outputs": [],
      "source": []
    }
  ],
  "metadata": {
    "accelerator": "GPU",
    "colab": {
      "provenance": []
    },
    "kernelspec": {
      "display_name": "Python 3",
      "language": "python",
      "name": "python3"
    },
    "language_info": {
      "codemirror_mode": {
        "name": "ipython",
        "version": 3
      },
      "file_extension": ".py",
      "mimetype": "text/x-python",
      "name": "python",
      "nbconvert_exporter": "python",
      "pygments_lexer": "ipython3",
      "version": "3.6.9"
    },
    "gpuClass": "standard"
  },
  "nbformat": 4,
  "nbformat_minor": 0
}