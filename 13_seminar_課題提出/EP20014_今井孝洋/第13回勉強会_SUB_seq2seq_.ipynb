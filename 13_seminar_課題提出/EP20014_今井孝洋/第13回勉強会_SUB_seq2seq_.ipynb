{
  "nbformat": 4,
  "nbformat_minor": 0,
  "metadata": {
    "colab": {
      "provenance": []
    },
    "kernelspec": {
      "name": "python3",
      "display_name": "Python 3"
    },
    "accelerator": "GPU"
  },
  "cells": [
    {
      "cell_type": "markdown",
      "metadata": {
        "id": "G2BhrFGqFx_M"
      },
      "source": [
        "# エンコーダ・デコーダによる計算機作成\n",
        "\n",
        "## 目的\n",
        "再帰型ニューラルネットワークの構造を理解する\n",
        "\n",
        "エンコーダ・デコーダモデルの構造を理解する\n",
        "\n",
        "\n",
        "## エンコーダ・デコーダモデル\n",
        "\n",
        "リカレントニューラルネットワークは，系列データ内の関連性を内部状態として保持することができます．\n",
        "この内部状態を利用して，新たな出力ができるようにした構造としてエンコーダ・デコーダがあります．\n",
        "エンコーダ側に系列データを入力して，中間層では系列データ内の関連性を内部状態を形成します．\n",
        "デコーダ側には内部状態を与えることで，内部状態を反映した何かしらの結果を出力します．\n",
        "この応用が，google 翻訳などの機械翻訳です．\n",
        "\n",
        "<img src=\"https://drive.google.com/uc?export=view&id=1zFl4Mjo4IRSQWSczJ4PzPkd53YJkb1oM\" width = 100%>\n",
        "\n"
      ]
    },
    {
      "cell_type": "markdown",
      "metadata": {
        "id": "R-IW9H7q2fT7"
      },
      "source": [
        "## モジュールのインポートとGPUの確認\n",
        "\n",
        "必要なモジュールをインポートします．\n",
        "そして，GPUが使用可能かどうかを確認します．"
      ]
    },
    {
      "cell_type": "code",
      "metadata": {
        "id": "4ksMLJ652faP",
        "colab": {
          "base_uri": "https://localhost:8080/"
        },
        "outputId": "d6a68075-300c-4a55-8d9e-6eb5c585846a"
      },
      "source": [
        "import random\n",
        "import numpy as np\n",
        "from time import time\n",
        "\n",
        "import torch\n",
        "import torch.nn as nn\n",
        "import torch.nn.functional as F\n",
        "import torch.optim as optim\n",
        "\n",
        "# GPUの確認\n",
        "use_cuda = torch.cuda.is_available()\n",
        "print('Use CUDA:', use_cuda)"
      ],
      "execution_count": 1,
      "outputs": [
        {
          "output_type": "stream",
          "name": "stdout",
          "text": [
            "Use CUDA: True\n"
          ]
        }
      ]
    },
    {
      "cell_type": "markdown",
      "metadata": {
        "id": "PvQCLiV4F1T6"
      },
      "source": [
        "## このノートブックで行う問題設定\n",
        "\n",
        "ここでは**文字として**計算式（足し算）を入力して，**文字として**足し算の結果を出力するネットワークを構築します．\n",
        "\n",
        "具体的には，\"123+39\"のような足し算式の文字列をLSTMEncoderへと入力し，\n",
        "\"162\"のような足し算の結果の文字列をLSTMDecoderから出力させます．\n",
        "\n",
        "このとき，LSTMには数字の文字や\"+\"などの記号の文字をひとつづつ入力・出力させます．\n",
        "\n",
        "## データセットの作成\n",
        "\n",
        "文字とそれに対応したIDを整理した辞書型オブジェクトを作成します．\n",
        "\n",
        "`word2id`では文字をキーとしてIDをデータにもつ辞書を，一方`id2word`ではIDをキーとして文字列をデータに持つ辞書を作成します．\n",
        "\n",
        "作成した辞書を表示します．\n",
        "`word2id`では，0から9の文字は0~9の数字のキーに対応しており，\n",
        "各種記号は次のようなIDに対応しています．\n",
        "* `<pad>`：10\n",
        "* `+`：11\n",
        "* 文字列の終わり`<eos>`：12\n",
        "\n",
        "\n"
      ]
    },
    {
      "cell_type": "code",
      "metadata": {
        "id": "5Xo3_CHplFN4",
        "colab": {
          "base_uri": "https://localhost:8080/"
        },
        "outputId": "c3bcf2fa-d69a-4b30-e721-1bed611508ab"
      },
      "source": [
        "word2id = {str(i): i for i in range(10)}\n",
        "word2id.update({\"<pad>\": 10, \"*\": 11, \"<eos>\": 12})\n",
        "id2word = {v: k for k, v in word2id.items()}\n",
        "\n",
        "# 作成した辞書オブジェクトの表示\n",
        "print(word2id)\n",
        "print(id2word)"
      ],
      "execution_count": 27,
      "outputs": [
        {
          "output_type": "stream",
          "name": "stdout",
          "text": [
            "{'0': 0, '1': 1, '2': 2, '3': 3, '4': 4, '5': 5, '6': 6, '7': 7, '8': 8, '9': 9, '<pad>': 10, '-': 11, '<eos>': 12}\n",
            "{0: '0', 1: '1', 2: '2', 3: '3', 4: '4', 5: '5', 6: '6', 7: '7', 8: '8', 9: '9', 10: '<pad>', 11: '-', 12: '<eos>'}\n"
          ]
        }
      ]
    },
    {
      "cell_type": "markdown",
      "metadata": {
        "id": "MXKCw7yhlGTI"
      },
      "source": [
        "### データセットクラスの作成\n",
        "\n",
        "次に，データセットを用意します．\n",
        "\n",
        "データは0から9までの数字と加算記号，開始，終了のフラグです．\n",
        "また，３桁の数字の足し算を行うため，各桁の値を１つずつランダムに生成して連結しています．\n",
        "\n",
        "$$x + y = z$$\n",
        "\n",
        "\n",
        "\n",
        "\n",
        "\n"
      ]
    },
    {
      "cell_type": "code",
      "metadata": {
        "id": "5wUc1QN0Fygb"
      },
      "source": [
        "class CalcDataset(torch.utils.data.Dataset):\n",
        "\n",
        "    # 計算式の文字列をIDの配列に変換するための関数\n",
        "    def transform(self, string, seq_len=7):\n",
        "        tmp = []\n",
        "        for i, c in enumerate(string):\n",
        "            try:\n",
        "                tmp.append(word2id[c])\n",
        "            except:\n",
        "                tmp += [word2id[\"<pad>\"]] * (seq_len - i)\n",
        "                break\n",
        "        return tmp\n",
        "\n",
        "    def __init__(self, data_num, train=True):\n",
        "        super().__init__()\n",
        "\n",
        "        self.data_num = data_num   # 準備するデータ（計算式）の数\n",
        "        self.train = train         # 学習，テストのどちらか\n",
        "        self.data = []             # 入力データ（足し算式の文字列）を格納するリスト\n",
        "        self.label = []            # 正解（足し算結果の文字列）を格納するリスト\n",
        "\n",
        "        # data_numの数だけforループを回して足し算式データをランダムに作成\n",
        "        for _ in range(data_num):\n",
        "            # 入力データの作成 (x + y) \n",
        "            x = int(\"\".join([random.choice(list(\"0123456789\")) for _ in range(random.randint(1, 3))] )) # 0 ~ 999の適当な数字（整数）を生成\n",
        "            y = int(\"\".join([random.choice(list(\"0123456789\")) for _ in range(random.randint(1, 3))] )) # 0 ~ 999の適当な数字（整数）を生成\n",
        "            left = (\"{:*<7s}\".format(str(x) + \"-\" + str(y))).replace(\"*\", \"<pad>\")  # x+yの計算式の文字列を作成\n",
        "            self.data.append(self.transform(left))  # 作成した計算文字列をID配列に変換してリストに格納\n",
        "\n",
        "            z = x - y  # 足し算の答えを計算\n",
        "            right = (\"{:*<6s}\".format(str(z))).replace(\"*\", \"<pad>\")  # 答えの数値を文字列に変換\n",
        "            right = self.transform(right, seq_len=5)                  # 文字列 --> IDの配列に変換\n",
        "            right = [12] + right         # ['EOS', '答えの数字ID', ...]となるように'EOS'を連結（計算上の仕様）\n",
        "            right[right.index(10)] = 12  # ['EOS', '答えの数字ID', ..., 'EOS', 'PAD', 'PAD']となるようにIDを変更\n",
        "            self.label.append(right)     # 作成した答えのID配列を保存\n",
        "        \n",
        "        # リスト --> numpy array形式に変換\n",
        "        self.data = np.asarray(self.data)\n",
        "        self.label = np.asarray(self.label)\n",
        "\n",
        "    def __getitem__(self, item):\n",
        "        d = self.data[item]\n",
        "        l = self.label[item]\n",
        "        return d, l\n",
        "\n",
        "    def __len__(self):\n",
        "        return self.data.shape[0]"
      ],
      "execution_count": 60,
      "outputs": []
    },
    {
      "cell_type": "markdown",
      "metadata": {
        "id": "SvI-V5Dndj3A"
      },
      "source": [
        "### 作成したデータの確認\n",
        "\n",
        "作成した`CalcDataset`のデータを確認します．\n",
        "\n",
        "適当なデータセットとして`tmp_dataset`を作成します．今回はデータの確認を行うだけのため，データ数（`data_num`）は5と小さい数に指定します．\n",
        "\n",
        "そして，作成したデータセット内のデータをひとつづつfor文で読み出して，データを確認します．"
      ]
    },
    {
      "cell_type": "code",
      "metadata": {
        "id": "MJzPv5j7zWD9",
        "colab": {
          "base_uri": "https://localhost:8080/"
        },
        "outputId": "77418006-6f59-48b8-d8d1-6db238f4fda2"
      },
      "source": [
        "tmp_dataset = CalcDataset(data_num=5)\n",
        "\n",
        "for i in range(len(tmp_dataset)):\n",
        "    print(tmp_dataset[i])"
      ],
      "execution_count": 61,
      "outputs": [
        {
          "output_type": "stream",
          "name": "stdout",
          "text": [
            "(array([ 1, 11,  5,  5, 10, 10, 10]), array([12, 11,  5,  4, 12, 10]))\n",
            "(array([ 1,  4, 11,  8, 10, 10, 10]), array([12,  6, 12, 10, 10, 10]))\n",
            "(array([ 4, 11,  2,  3,  7, 10, 10]), array([12, 11,  2,  3,  3, 12]))\n",
            "(array([ 2,  5,  6, 11,  5, 10, 10]), array([12,  2,  5,  1, 12, 10]))\n",
            "(array([ 8, 11,  5,  7, 10, 10, 10]), array([12, 11,  4,  9, 12, 10]))\n"
          ]
        }
      ]
    },
    {
      "cell_type": "markdown",
      "metadata": {
        "id": "xTHnQ96hF7cd"
      },
      "source": [
        "## ネットワークモデル（計算機）の定義\n",
        "ここでは，エンコーダ・デコーダ構造で計算機（足し算）を作ってみます．\n",
        "このエンコーダ・デコーダ構造のことをSequence-to-Sequence (Seq2Seq) と呼びます．\n",
        "\n",
        "エンコーダとデコーダの2種類のネットワークを用意します．\n",
        "エンコーダは，ワードエンベディング (word embedding) という入力されたIDを特徴表現に変換する層とLSTM層から構成されています．\n",
        "デコーダも同様の構造です．エンコーダ側の中間層の値がstateとして出力され，デコーダ側の中間層に入力されます．"
      ]
    },
    {
      "cell_type": "code",
      "metadata": {
        "id": "_0IE4XYHF690"
      },
      "source": [
        "class Encoder(nn.Module):\n",
        "    # vocab_size: 扱うIDの数, embedding_dim: embedding層の特徴次元数, hidden_dim: LSTMの隠れ層サイズ\n",
        "    def __init__(self, vocab_size, embedding_dim, hidden_dim, batch_size=100):\n",
        "        super(Encoder, self).__init__()\n",
        "        self.hidden_dim = hidden_dim\n",
        "        self.batch_size = batch_size\n",
        "\n",
        "        # padding_idx: padのID (10) を指定（このIDが入力された場合は出力が全て0になる）\n",
        "        self.word_embeddings = nn.Embedding(vocab_size, embedding_dim, padding_idx=word2id[\"<pad>\"])\n",
        "        # batch_first: 入力データの1次元目がミニバッチかどうか（Trueの場合...[mini batch, seqence, feature] となる）\n",
        "        self.lstm = nn.LSTM(embedding_dim, hidden_dim, batch_first=True)                                                                ######\n",
        "\n",
        "    def forward(self, indices):\n",
        "        embedding = self.word_embeddings(indices)\n",
        "        # 配列サイズの確認と適宜サイズ変更（embeddingのサイズが2次元配列の場合には1次元追加して[mini batch, seqence, feature]の形にする）\n",
        "        if embedding.dim() == 2:\n",
        "            embedding = torch.unsqueeze(embedding, 1)\n",
        "        h = torch.zeros(1, self.batch_size, self.hidden_dim, device=device)\n",
        "        c = torch.zeros(1, self.batch_size, self.hidden_dim, device=device)\n",
        "        # データをLSTMへ一度に入力し，最後のデータを入れ終わった後の隠れ状態とセル状態（state）を取得\n",
        "        _, state = self.lstm(embedding, (h, c))\n",
        "        #_, state = self.lstm(embedding, h)\n",
        "        return state\n",
        "\n",
        "\n",
        "class Decoder(nn.Module):\n",
        "    def __init__(self, vocab_size, embedding_dim, hidden_dim, batch_size=100):\n",
        "        super(Decoder, self).__init__()\n",
        "        self.hidden_dim = hidden_dim\n",
        "        self.batch_size = batch_size\n",
        "\n",
        "        self.word_embeddings = nn.Embedding(vocab_size, embedding_dim, padding_idx=word2id[\"<pad>\"])\n",
        "        self.lstm = nn.LSTM(embedding_dim, hidden_dim, batch_first=True)\n",
        "        self.output = nn.Linear(hidden_dim, vocab_size)  # 各IDのスコアが出力されるようにIDの数と同一の出力サイズにする\n",
        "\n",
        "    def forward(self, index, state):\n",
        "        embedding = self.word_embeddings(index)\n",
        "        if embedding.dim() == 2:\n",
        "            embedding = torch.unsqueeze(embedding, 1)\n",
        "        lstm_out, state = self.lstm(embedding, state)\n",
        "        output = self.output(lstm_out)  # lstm_outを全結合層（出力層）へ入力して計算結果の文字（各ID）のスコアを取得\n",
        "        return output, state"
      ],
      "execution_count": 62,
      "outputs": []
    },
    {
      "cell_type": "markdown",
      "metadata": {
        "id": "U-cRJNLIBKOs"
      },
      "source": [
        "## ネットワークモデルの作成\n",
        "\n",
        "上で定義したエンコーダとデコーダを作成します．\n",
        "エンコーダとデコーダは別々のネットワークとして用意し，それぞれの最適化にはAdamを利用します．"
      ]
    },
    {
      "cell_type": "code",
      "metadata": {
        "id": "DpsqOdLnBKUf"
      },
      "source": [
        "embedding_dim = 16\n",
        "hidden_dim = 128\n",
        "vocab_size = len(word2id)\n",
        "device = torch.device(\"cuda:0\" if torch.cuda.is_available() else \"cpu\")\n",
        "\n",
        "encoder = Encoder(vocab_size, embedding_dim, hidden_dim, batch_size=100).to(device)\n",
        "decoder = Decoder(vocab_size, embedding_dim, hidden_dim, batch_size=100).to(device)\n",
        "\n",
        "# 正解ラベルにPAD (ID=10) が入力された場合は誤差を計算しない\n",
        "criterion = nn.CrossEntropyLoss(ignore_index=word2id[\"<pad>\"])\n",
        "\n",
        "# 最適化手法の設定\n",
        "encoder_optimizer = optim.Adam(encoder.parameters(), lr=0.001)\n",
        "decoder_optimizer = optim.Adam(decoder.parameters(), lr=0.001)"
      ],
      "execution_count": 63,
      "outputs": []
    },
    {
      "cell_type": "markdown",
      "metadata": {
        "id": "7jPYDEx8F-d6"
      },
      "source": [
        "###学習\n",
        "学習を行います．学習データを2万サンプル生成して，データローダに与えます．\n",
        "学習は200エポック行います．エンコーダの入力は数字または開始・終了・加算記号です．\n",
        "デコーダの入力は計算結果です．\n",
        "具体的には，54+37 を行う時，\n",
        "エンコーダには，まず開始記号を最初に入力し，次に，5, 4, +, 3, 7 を入力します．そして，最後に終了記号を入力します．その時の中間層の情報をhidden_stateとしてエンコーダから受け取ります．\n",
        "デコーダは，開始記号と中間情報(hidden_state)を最初に入力します，そして，計算結果の9, 1 を入力し，最後に終了記号を入力します．\n",
        "この時，デコーダは各数字（または記号）の確率をdecoder_outputとして出力します．\n",
        "decoder_outputは，[バッチサイズ, 1, 各クラス確率]の３次元なので，squeezeによって，[バッチサイズ,  各クラス確率] に次元削減します．\n",
        "そして，クロスエントロピー誤差関数によって，ロスを求めます．\n",
        "これを正解の長さ(=5)分繰り返し行い，ロスを累積します．\n",
        "その後，誤差逆伝播，デコーダ，エンコーダの更新を行います．\n"
      ]
    },
    {
      "cell_type": "code",
      "metadata": {
        "id": "J6oQRPeTF-Bj",
        "colab": {
          "base_uri": "https://localhost:8080/"
        },
        "outputId": "651cf833-983b-4559-f8db-9ab0ab127bc1"
      },
      "source": [
        "batch_size=100\n",
        "epoch_num = 100\n",
        "\n",
        "train_data = CalcDataset(data_num = 20000)\n",
        "train_loader = torch.utils.data.DataLoader(train_data, batch_size=batch_size, shuffle=True)\n",
        "\n",
        "encoder.train()\n",
        "decoder.train()\n",
        "\n",
        "start = time()\n",
        "for epoch in range(1, epoch_num+1):\n",
        "    for data, label in train_loader:\n",
        "        encoder_optimizer.zero_grad()\n",
        "        decoder_optimizer.zero_grad()\n",
        "\n",
        "        if use_cuda:\n",
        "            data = data.cuda()\n",
        "            label = label.cuda()\n",
        "\n",
        "        encoder_hidden = encoder(data)\n",
        "        source = label[:, :-1]  # 学習時にデコーダに入力するデータを抽出\n",
        "        target = label[:, 1:]   # 正解ラベルを抽出\n",
        "        decoder_hidden = encoder_hidden  # エンコーダの隠れ・セル状態をデコーダへ渡すためにコピー\n",
        "\n",
        "        loss = 0\n",
        "        for i in range(source.size(1)):\n",
        "            decoder_output, decoder_hidden = decoder(source[:, i], decoder_hidden)\n",
        "            decoder_output = torch.squeeze(decoder_output)\n",
        "            loss += criterion(decoder_output, target[:, i])\n",
        "\n",
        "        loss.backward()\n",
        "        encoder_optimizer.step()\n",
        "        decoder_optimizer.step()\n",
        "\n",
        "    elapsed_time = time() - start\n",
        "    if epoch % 10 == 0:\n",
        "        print(\"epoch: {}, mean loss: {}, elapsed_time: {}\".format(epoch, loss.item(), elapsed_time))\n",
        "\n",
        "# 学習が一通り終了した時点で，ネットワークモデルのパラメータを保存\n",
        "model_name = \"seq2seq_calculator_v{}.pt\".format(epoch)\n",
        "torch.save({\n",
        "    'encoder_model': encoder.state_dict(),\n",
        "    'decoder_model': decoder.state_dict(),\n",
        "}, model_name)"
      ],
      "execution_count": 64,
      "outputs": [
        {
          "output_type": "stream",
          "name": "stdout",
          "text": [
            "epoch: 10, mean loss: 3.3946688175201416, elapsed_time: 13.897921800613403\n",
            "epoch: 20, mean loss: 2.8879740238189697, elapsed_time: 28.18821120262146\n",
            "epoch: 30, mean loss: 1.9435054063796997, elapsed_time: 42.18874454498291\n",
            "epoch: 40, mean loss: 1.4698048830032349, elapsed_time: 56.75697612762451\n",
            "epoch: 50, mean loss: 1.2343806028366089, elapsed_time: 71.13102746009827\n",
            "epoch: 60, mean loss: 0.7516065239906311, elapsed_time: 85.33942341804504\n",
            "epoch: 70, mean loss: 0.4624963104724884, elapsed_time: 99.490642786026\n",
            "epoch: 80, mean loss: 0.42516589164733887, elapsed_time: 113.7926971912384\n",
            "epoch: 90, mean loss: 0.25192496180534363, elapsed_time: 127.83666038513184\n",
            "epoch: 100, mean loss: 0.09404044598340988, elapsed_time: 141.7972559928894\n"
          ]
        }
      ]
    },
    {
      "cell_type": "markdown",
      "metadata": {
        "id": "OVUbOtyfGLwA"
      },
      "source": [
        "## 評価\n",
        "\n",
        "次に，学習したモデルを評価をします．\n",
        "\n",
        "テストデータを50サンプル生成して，データローダに与えます．\n",
        "\n",
        "ここで，学習時はエンコーダとデコーダのバッチサイズを100としていました．\n",
        "テスト時は１つずつ行いたいので，エンコーダとデコーダを新たに生成し，学習したパラメータをロードします．\n",
        "\n",
        "エンコーダ側に計算したい数字（または記号）を入力して中間情報stateを得ます．\n",
        "デコーダ側に，中間情報stateと開始記号<eos>を入力します．\n",
        "デコーダ側の出力は数字または記号(token)と中間情報です．\n",
        "これらを繰り返しデコーダに入力します．<eos>が出力されたら繰り返しは終了です．\n",
        "\n",
        "出力されたtokenを追加したリストrightを計算結果とします．\n",
        "計算する式(left)を作成した後，evalでその計算結果が正しいかどうかを判定します．\n",
        "\n"
      ]
    },
    {
      "cell_type": "markdown",
      "source": [
        "### GPUが使用できず，学習ができなかった場合\n",
        "\n",
        "学習済みモデルを用意していますので，下記のコマンドを実行してファイルをダウンロードしてください．"
      ],
      "metadata": {
        "id": "L8HmISAuuku_"
      }
    },
    {
      "cell_type": "code",
      "source": [
        "!wget -qq http://www.mprg.cs.chubu.ac.jp/~hirakawa/share/tutorial_data/seq2seq_calculator_v200.pt.zip\n",
        "!unzip seq2seq_calculator_v200.pt.zip"
      ],
      "metadata": {
        "id": "9aKoUyD5ukl7",
        "colab": {
          "base_uri": "https://localhost:8080/"
        },
        "outputId": "319d7acf-b89a-4b9e-ffb9-be5471d87ea9"
      },
      "execution_count": 57,
      "outputs": [
        {
          "output_type": "stream",
          "name": "stdout",
          "text": [
            "Archive:  seq2seq_calculator_v200.pt.zip\n",
            "replace seq2seq_calculator_v200.pt? [y]es, [n]o, [A]ll, [N]one, [r]ename: "
          ]
        }
      ]
    },
    {
      "cell_type": "code",
      "metadata": {
        "id": "OGdS8DWwGC_D",
        "colab": {
          "base_uri": "https://localhost:8080/"
        },
        "outputId": "d64d4145-e298-443e-9156-4a7f0b676928"
      },
      "source": [
        "batch_size = 1\n",
        "test_data = CalcDataset(data_num = 50)\n",
        "test_loader = torch.utils.data.DataLoader(test_data, batch_size=batch_size, shuffle=False)\n",
        "\n",
        "encoder = Encoder(vocab_size, embedding_dim, hidden_dim, batch_size=1).to(device)\n",
        "decoder = Decoder(vocab_size, embedding_dim, hidden_dim, batch_size=1).to(device)\n",
        "\n",
        "model_name = \"seq2seq_calculator_v{}.pt\".format(epoch)\n",
        "checkpoint = torch.load(model_name)\n",
        "encoder.load_state_dict(checkpoint[\"encoder_model\"])\n",
        "decoder.load_state_dict(checkpoint[\"decoder_model\"])\n",
        "\n",
        "encoder.eval()\n",
        "decoder.eval()\n",
        "\n",
        "accuracy = 0\n",
        "        \n",
        "# 評価の実行   \n",
        "with torch.no_grad():\n",
        "    for data, label in test_loader:\n",
        "        if use_cuda:\n",
        "            data = data.cuda()\n",
        "\n",
        "        # encoderの計算\n",
        "        state = encoder(data)\n",
        "\n",
        "        # decoderの計算\n",
        "        right = []\n",
        "        token = \"<eos>\"\n",
        "        for _ in range(7):\n",
        "            index = word2id[token]  # decoderに入力するIDを決定（最初はEOS, 次から前の時刻のdecoderの出力）\n",
        "            input_tensor = torch.tensor([index], device=device)  # IDをtorchの配列形式に変換\n",
        "            output, state = decoder(input_tensor, state)         # IDを入力\n",
        "            prob = F.softmax(torch.squeeze(output), dim=0)       # softmaxを計算\n",
        "            index = torch.argmax(prob.cpu().detach()).item()     # 出力の中で最もスコアの高いIDを決定\n",
        "            token = id2word[index]                               # そのIDを文字に変換\n",
        "            if token == \"<eos>\":  # 予測結果がEOSなら終了\n",
        "                break\n",
        "            right.append(token)                                  # 文字に変換した予測結果をリストに格納\n",
        "        right = \"\".join(right)\n",
        "        \n",
        "        # 計算式（左辺）のID配列 --> 文字列に変換（表示用）\n",
        "        x = list(data[0].to('cpu').detach().numpy())\n",
        "        try:\n",
        "            padded_idx_x = x.index(word2id[\"<pad>\"])\n",
        "        except ValueError:\n",
        "            padded_idx_x = len(x)\n",
        "        left = \"\".join(map(lambda c: str(id2word[c]), x[:padded_idx_x]))\n",
        "\n",
        "        # 正解判定\n",
        "        try:\n",
        "          right_int = int(right)          # 予測結果の文字列を数値に変換\n",
        "          flag = eval(left) == right_int  # 正しければTrueを保存\n",
        "        except:\n",
        "          flag = False\n",
        "\n",
        "        print(\"{:>7s} = {:>4s}\".format(left, right), flag)  # 計算結果の表示\n",
        "\n",
        "        if flag:\n",
        "            accuracy += 1   # 正解した場合はカウントする\n",
        "\n",
        "print(\"Accuracy: {:.2f}\".format(accuracy / len(test_loader)))"
      ],
      "execution_count": 65,
      "outputs": [
        {
          "output_type": "stream",
          "name": "stdout",
          "text": [
            "    9-6 =    3 True\n",
            "   67-7 =   60 True\n",
            "   77-1 =   76 True\n",
            "   4-51 =  -47 True\n",
            "   86-2 =   84 True\n",
            "  87-42 =   46 False\n",
            "  1-852 = -851 True\n",
            "690-688 =   18 False\n",
            " 142-20 =  134 False\n",
            "    8-4 =    4 True\n",
            "820-445 =  376 False\n",
            "641-828 = -173 False\n",
            "  4-774 = -771 False\n",
            "  274-0 =  274 True\n",
            "   9-22 =  -13 True\n",
            " 224-16 =  208 True\n",
            "    4-4 =    0 True\n",
            "  97-59 =   31 False\n",
            "    8-9 =   -1 True\n",
            "783-367 =  393 False\n",
            "  14-29 =  -15 True\n",
            "488-122 =  366 True\n",
            "  6-675 = -669 True\n",
            "    8-8 =    0 True\n",
            " 325-27 =  306 False\n",
            "   5-85 =  -80 True\n",
            "278-638 = -359 False\n",
            " 78-442 = -364 True\n",
            "   41-6 =   35 True\n",
            " 836-27 =  806 False\n",
            "   7-73 =  -66 True\n",
            "582-347 =  214 False\n",
            "  38-33 =    5 True\n",
            "   7-42 =  -35 True\n",
            " 862-84 =  777 False\n",
            "    1-9 =   -8 True\n",
            "   85-4 =   81 True\n",
            "   94-0 =   94 True\n",
            " 22-880 = -778 False\n",
            "   9-24 =  -15 True\n",
            " 74-196 = -122 True\n",
            " 144-29 =  115 True\n",
            "    4-3 =    1 True\n",
            "  4-757 = -753 True\n",
            " 77-329 = -258 False\n",
            " 410-97 =  323 False\n",
            "458-626 = -103 False\n",
            "  2-716 = -714 True\n",
            "151-672 = -514 False\n",
            "    8-1 =    7 True\n",
            "Accuracy: 0.64\n"
          ]
        }
      ]
    },
    {
      "cell_type": "markdown",
      "metadata": {
        "id": "jVqKQdWxGOg5"
      },
      "source": [
        "## 課題\n",
        "\n",
        "### 1. 他のリカレントニューラルネットワークを使って精度比較をしてみましょう．\n",
        "\n",
        "**ヒント**\n",
        "\n",
        "その他のネットワークとしては`nn.RNN`や`nn.GRU`があります．\n",
        "\n",
        "また，RNNやGRUにはセル状態がないため，変数`c`を使用しないように注意\n",
        "```\n",
        "self.lstm(embedding, (h, c)) --> self.lstm(embedding, h)\n",
        "```\n",
        "\n",
        "\n",
        "### 2. 足し算だけでなく，色々な四則演算を実装しましょう．\n",
        "**こちらは時間があれば取り組んでみましょう**"
      ]
    }
  ]
}