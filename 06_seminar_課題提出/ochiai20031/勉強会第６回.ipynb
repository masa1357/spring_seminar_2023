{
  "cells": [
    {
      "cell_type": "markdown",
      "metadata": {
        "id": "t79JujSuXcA6"
      },
      "source": [
        "第１問"
      ]
    },
    {
      "cell_type": "code",
      "execution_count": 53,
      "metadata": {
        "id": "iGs-fPyRMjXv"
      },
      "outputs": [],
      "source": [
        "import numpy as np\n",
        "import matplotlib.pyplot as plt\n",
        "import torch\n",
        "import statistics"
      ]
    },
    {
      "cell_type": "code",
      "execution_count": 54,
      "metadata": {
        "id": "jZmtaEAuNGp6"
      },
      "outputs": [],
      "source": [
        "a = ['m','c','i','e','p','r','e','t','o',' ','o','o','i','s','g','o','p']\n",
        "b = ['a','h','n',' ','e','c','p','i','n','r','b','t','c','-','r','u','!']"
      ]
    },
    {
      "cell_type": "code",
      "execution_count": 57,
      "metadata": {
        "id": "EXMtmNF4Otli"
      },
      "outputs": [],
      "source": [
        "tex =[ch[0] + ch[1] for ch in zip(a,b)]"
      ]
    },
    {
      "cell_type": "code",
      "execution_count": 58,
      "metadata": {
        "colab": {
          "base_uri": "https://localhost:8080/"
        },
        "id": "xSdN0XO0PWmZ",
        "outputId": "bbcd3330-832e-4888-eb43-7055aa5ca39c"
      },
      "outputs": [
        {
          "name": "stdout",
          "output_type": "stream",
          "text": [
            "machine perception robotics-group!"
          ]
        }
      ],
      "source": [
        "for text_list in tex:\n",
        "  print(text_list, end=\"\")"
      ]
    },
    {
      "cell_type": "markdown",
      "metadata": {
        "id": "608Wby5gXX9A"
      },
      "source": [
        "第２問"
      ]
    },
    {
      "cell_type": "code",
      "execution_count": 17,
      "metadata": {
        "id": "UvsUjhRrUPIS"
      },
      "outputs": [],
      "source": [
        "math = np.array([40, 15, 72, 22, 43, 82, 75, 7, 34, 49, 95, 75, 85, 47, 63])"
      ]
    },
    {
      "cell_type": "code",
      "execution_count": 33,
      "metadata": {
        "id": "PnnYihVAUk2Z"
      },
      "outputs": [],
      "source": [
        "pas = len(math[(math >= 70)])"
      ]
    },
    {
      "cell_type": "code",
      "execution_count": 34,
      "metadata": {
        "colab": {
          "base_uri": "https://localhost:8080/"
        },
        "id": "5KadWdVUVfmk",
        "outputId": "8e5744c6-75eb-4adf-afc1-344510ef37e0"
      },
      "outputs": [
        {
          "data": {
            "text/plain": [
              "6"
            ]
          },
          "execution_count": 34,
          "metadata": {},
          "output_type": "execute_result"
        }
      ],
      "source": [
        "pas"
      ]
    },
    {
      "cell_type": "code",
      "execution_count": 36,
      "metadata": {
        "colab": {
          "base_uri": "https://localhost:8080/"
        },
        "id": "MOqMAvtBVgjf",
        "outputId": "d1279089-5767-4482-c575-a41ce190b5ba"
      },
      "outputs": [
        {
          "data": {
            "text/plain": [
              "27.055498516937366"
            ]
          },
          "execution_count": 36,
          "metadata": {},
          "output_type": "execute_result"
        }
      ],
      "source": [
        "statistics.stdev(math)"
      ]
    },
    {
      "cell_type": "markdown",
      "metadata": {
        "id": "27ZSqVhsXfkc"
      },
      "source": [
        "第３問"
      ]
    },
    {
      "cell_type": "code",
      "execution_count": 52,
      "metadata": {
        "colab": {
          "base_uri": "https://localhost:8080/",
          "height": 295
        },
        "id": "5P3eq8aeXtCc",
        "outputId": "e91d3e4b-d8de-430a-b299-8e851091d80b"
      },
      "outputs": [
        {
          "data": {
            "image/png": "[encoded data removed]",
            "text/plain": [
              "<Figure size 432x288 with 1 Axes>"
            ]
          },
          "metadata": {
            "needs_background": "light"
          },
          "output_type": "display_data"
        }
      ],
      "source": [
        "import numpy as np\n",
        "import matplotlib.pyplot as plt\n",
        "\n",
        "# シグモイド関数\n",
        "def sigmoid(x):\n",
        "    return 1 / (1 + np.exp(-x))\n",
        "\n",
        "# ソフトマックス関数\n",
        "def softmax(x):\n",
        "    exp_x = np.exp(x)\n",
        "    return exp_x / np.sum(exp_x, axis=0)\n",
        "\n",
        "# tanh関数\n",
        "def tanh(x):\n",
        "    return np.tanh(x)\n",
        "\n",
        "# x軸の範囲\n",
        "x = np.arange(-5.0, 5.0, 0.1)\n",
        "\n",
        "# 各関数のy軸の値を計算\n",
        "y_sigmoid = sigmoid(x)\n",
        "y_softmax = softmax(x)\n",
        "y_tanh = tanh(x)\n",
        "\n",
        "# グラフを描画\n",
        "plt.plot(x, y_sigmoid, label='sigmoid')\n",
        "plt.plot(x, y_softmax, label='softmax')\n",
        "plt.plot(x, y_tanh, label='tanh')\n",
        "plt.xlabel(\"x\")\n",
        "plt.ylabel(\"y\")\n",
        "plt.title(\"Sigmoid, Softmax, Tanh\")\n",
        "plt.grid(True)\n",
        "plt.legend()\n",
        "plt.show()\n"
      ]
    }
  ],
  "metadata": {
    "colab": {
      "provenance": []
    },
    "kernelspec": {
      "display_name": "Python 3",
      "name": "python3"
    },
    "language_info": {
      "name": "python"
    }
  },
  "nbformat": 4,
  "nbformat_minor": 0
}
