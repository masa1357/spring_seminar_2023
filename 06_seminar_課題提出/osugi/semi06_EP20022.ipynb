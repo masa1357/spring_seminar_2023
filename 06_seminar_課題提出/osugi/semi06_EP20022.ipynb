{
  "nbformat": 4,
  "nbformat_minor": 0,
  "metadata": {
    "colab": {
      "provenance": [],
      "toc_visible": true
    },
    "kernelspec": {
      "name": "python3",
      "display_name": "Python 3"
    }
  },
  "cells": [
    {
      "cell_type": "code",
      "source": [
        "#課題1\n",
        "import itertools\n",
        "\n",
        "a = ['m', 'c', 'i', 'e', 'p', 'r', 'e', 't', 'o', ' ', 'o', 'o', 'i', 's', 'g', 'o', 'p']\n",
        "b = ['a', 'h', 'n', ' ', 'e', 'c', 'p', 'i', 'n', 'r', 'b', 't', 'c', '-', 'r', 'u', '!']\n",
        "\n",
        "text = list(itertools.chain.from_iterable((zip(a, b))))\n",
        "\n",
        "for ch in text:\n",
        "    print(ch, end=\"\")"
      ],
      "metadata": {
        "colab": {
          "base_uri": "https://localhost:8080/"
        },
        "id": "3LwkXFRIiG3f",
        "outputId": "500a44bd-6f8a-410e-efb6-e93818117aa8"
      },
      "execution_count": 27,
      "outputs": [
        {
          "output_type": "stream",
          "name": "stdout",
          "text": [
            "machine perception robotics-group!"
          ]
        }
      ]
    },
    {
      "cell_type": "code",
      "source": [
        "#課題2\n",
        "import numpy as np\n",
        "\n",
        "math = np.array([40, 15, 72, 22, 43, 82, 75, 7, 34, 49, 95, 75, 85, 47, 63])\n",
        "pasu = (math >= 70).sum()\n",
        "print(pasu)\n",
        "\n",
        "Z = (math - math.mean()) / math.std()\n",
        "print(Z)"
      ],
      "metadata": {
        "colab": {
          "base_uri": "https://localhost:8080/"
        },
        "id": "AzU56phLn7Sp",
        "outputId": "a77ef55a-16fa-4352-c50d-ce9237857d6c"
      },
      "execution_count": 45,
      "outputs": [
        {
          "output_type": "stream",
          "name": "stdout",
          "text": [
            "6\n",
            "[-0.52012054 -1.47622446  0.70369249 -1.20851536 -0.40538806  1.08613406\n",
            "  0.81842496 -1.78217772 -0.74958548 -0.17592312  1.5833081   0.81842496\n",
            "  1.20086653 -0.25241144  0.35949508]\n"
          ]
        }
      ]
    },
    {
      "cell_type": "code",
      "source": [
        "#課題3\n",
        "import matplotlib.pyplot as plt\n",
        "import numpy as np\n",
        "fig, ax = plt.subplots()\n",
        "\n",
        "def sigmoid(x):\n",
        "    return 1 / (1 + np.exp(-x))\n",
        "\n",
        "def softmax(x):\n",
        "    exp_x = np.exp(x)\n",
        "    sum_exp_x = np.sum(exp_x)\n",
        "    return exp_x / sum_exp_x\n",
        "\n",
        "def tanh(x):\n",
        "    exp_x = np.exp(x)\n",
        "    exp_minx = np.exp(-x)\n",
        "    return (exp_x - exp_minx) / (exp_x + exp_minx)\n",
        "\n",
        "x = np.arange(-5.0, 5.0, 0.1)\n",
        "y = sigmoid(x)\n",
        "plt.plot(x, y,label=\"sigmoid\")\n",
        "\n",
        "y=softmax(x)\n",
        "plt.plot(x, y,label=\"softmax\")\n",
        "\n",
        "y=tanh(x)\n",
        "plt.plot(x, y,label=\"tanh\")\n",
        "\n",
        "plt.ylim(-1.2, 1.2)\n",
        "\n",
        "plt.legend()\n",
        "ax.set_xlabel(\"x\")\n",
        "ax.set_ylabel(\"y\")\n",
        "plt.title(\"EP20022\")\n",
        "\n",
        "plt.show()"
      ],
      "metadata": {
        "colab": {
          "base_uri": "https://localhost:8080/",
          "height": 295
        },
        "id": "QOQ6rJCx1QWZ",
        "outputId": "1266ccce-16c4-4c4d-9ebb-e88147d3e2e7"
      },
      "execution_count": 89,
      "outputs": [
        {
          "output_type": "display_data",
          "data": {
            "text/plain": [
              "<Figure size 432x288 with 1 Axes>"
            ],
            "image/png": "[encoded data removed]"
          },
          "metadata": {
            "needs_background": "light"
          }
        }
      ]
    }
  ]
}