{
  "nbformat": 4,
  "nbformat_minor": 0,
  "metadata": {
    "colab": {
      "provenance": []
    },
    "kernelspec": {
      "name": "python3",
      "display_name": "Python 3"
    },
    "language_info": {
      "name": "python"
    }
  },
  "cells": [
    {
      "cell_type": "markdown",
      "source": [
        "# 課題1"
      ],
      "metadata": {
        "id": "Tu9kqopC808U"
      }
    },
    {
      "cell_type": "code",
      "execution_count": 1,
      "metadata": {
        "id": "8RumPHJflfSm"
      },
      "outputs": [],
      "source": [
        "a = ['m', 'c', 'i', 'e', 'p', 'r', 'e', 't', 'o', ' ' , 'o', 'o', 'i', 's', 'g', 'o', 'p']\n",
        "b = ['a', 'h', 'n', ' ' , 'e', 'c', 'p', 'i', 'n', 'r', 'b', 't', 'c', '-', 'r', 'u', '!']"
      ]
    },
    {
      "cell_type": "code",
      "source": [
        "text = []\n",
        "text = [m + n for m, n in zip(a,b)]"
      ],
      "metadata": {
        "id": "sZJ56u0xCiPv"
      },
      "execution_count": 2,
      "outputs": []
    },
    {
      "cell_type": "code",
      "source": [
        "for ch in text:\n",
        "    print(ch, end=\"\")"
      ],
      "metadata": {
        "colab": {
          "base_uri": "https://localhost:8080/"
        },
        "id": "a1nT1_5hA_AP",
        "outputId": "d1fbd1ea-be0c-4364-d259-7b5884887326"
      },
      "execution_count": 3,
      "outputs": [
        {
          "output_type": "stream",
          "name": "stdout",
          "text": [
            "machine perception robotics-group!"
          ]
        }
      ]
    },
    {
      "cell_type": "markdown",
      "source": [
        "# 課題2"
      ],
      "metadata": {
        "id": "sJg_NIiVBgHU"
      }
    },
    {
      "cell_type": "markdown",
      "source": [
        "2-1"
      ],
      "metadata": {
        "id": "sk9SzNzICQXi"
      }
    },
    {
      "cell_type": "code",
      "source": [
        "import numpy as np\n",
        "math = np.array([40, 15, 72, 22, 43, 82, 75, 7, 34, 49, 95, 75, 85, 47, 63])\n",
        "border = 70"
      ],
      "metadata": {
        "id": "ou4HGdUCBR1h"
      },
      "execution_count": 4,
      "outputs": []
    },
    {
      "cell_type": "code",
      "source": [
        "print(math)\n",
        "print(math[math>50])\n",
        "(math > 70)"
      ],
      "metadata": {
        "colab": {
          "base_uri": "https://localhost:8080/"
        },
        "id": "F7FfY7bXCCLU",
        "outputId": "4a9bb1aa-fbc2-4bb1-cc3a-f68ca732c03a"
      },
      "execution_count": 5,
      "outputs": [
        {
          "output_type": "stream",
          "name": "stdout",
          "text": [
            "[40 15 72 22 43 82 75  7 34 49 95 75 85 47 63]\n",
            "[72 82 75 95 75 85 63]\n"
          ]
        },
        {
          "output_type": "execute_result",
          "data": {
            "text/plain": [
              "array([False, False,  True, False, False,  True,  True, False, False,\n",
              "       False,  True,  True,  True, False, False])"
            ]
          },
          "metadata": {},
          "execution_count": 5
        }
      ]
    },
    {
      "cell_type": "code",
      "source": [
        "pass70 = len(math[(math >= 70)])\n",
        "pass70"
      ],
      "metadata": {
        "colab": {
          "base_uri": "https://localhost:8080/"
        },
        "id": "rXnMcMmRMZGz",
        "outputId": "f804d87e-5802-4484-90f0-3a71eaac8edf"
      },
      "execution_count": 6,
      "outputs": [
        {
          "output_type": "execute_result",
          "data": {
            "text/plain": [
              "6"
            ]
          },
          "metadata": {},
          "execution_count": 6
        }
      ]
    },
    {
      "cell_type": "markdown",
      "source": [
        "2-2"
      ],
      "metadata": {
        "id": "J5ppT6mqgqPe"
      }
    },
    {
      "cell_type": "code",
      "source": [
        "Z = np.std(math)\n",
        "Z"
      ],
      "metadata": {
        "colab": {
          "base_uri": "https://localhost:8080/"
        },
        "id": "fSvfVopoPywe",
        "outputId": "a8f2ab4b-652e-4d8f-f4fd-4290cc3bdfbd"
      },
      "execution_count": 7,
      "outputs": [
        {
          "output_type": "execute_result",
          "data": {
            "text/plain": [
              "26.147785119712655"
            ]
          },
          "metadata": {},
          "execution_count": 7
        }
      ]
    },
    {
      "cell_type": "markdown",
      "source": [
        "# 課題3"
      ],
      "metadata": {
        "id": "m6zZkzxggjJi"
      }
    },
    {
      "cell_type": "code",
      "source": [
        "import numpy as np\n",
        "import matplotlib.pyplot as plt"
      ],
      "metadata": {
        "id": "2L6xM3q6Qk8B"
      },
      "execution_count": 8,
      "outputs": []
    },
    {
      "cell_type": "code",
      "source": [
        "def sigmoid(x):\n",
        "  return 1 / (1 + np.exp(-x))\n",
        "\n",
        "def softmax(x):\n",
        "  return np.exp(x)/np.sum(np.exp(x))\n",
        "\n",
        "def tanh(x):\n",
        "  return (np.exp(x) -np.exp(-x))/(np.exp(x) + np.exp(-x))"
      ],
      "metadata": {
        "id": "tyemacHJjn75"
      },
      "execution_count": 9,
      "outputs": []
    },
    {
      "cell_type": "code",
      "source": [
        "x = np.arange(-5.0, 5.0, 0.1)\n",
        "y_sigmoid = sigmoid(x)\n",
        "y_softmax = softmax(x)\n",
        "y_tanh = tanh(x)\n",
        "\n",
        "plt.plot(x, y_sigmoid, label=\"sigmoid\")\n",
        "plt.plot(x, y_softmax, label=\"softmax\")\n",
        "plt.plot(x, y_tanh, label=\"tanh\")\n",
        "\n",
        "#plt.xlim(-5.0, 5.0, 0.1)\n",
        "plt.ylim(-1.2, 1.2)\n",
        "\n",
        "plt.xlabel(\"x\")\n",
        "plt.ylabel(\"y\")\n",
        "\n",
        "plt.grid()\n",
        "plt.legend()\n",
        "\n",
        "plt.show()"
      ],
      "metadata": {
        "colab": {
          "base_uri": "https://localhost:8080/",
          "height": 279
        },
        "id": "0oPPDWX7hEy9",
        "outputId": "a6a72ae5-7a89-4f42-cb24-c03193e549ee"
      },
      "execution_count": 11,
      "outputs": [
        {
          "output_type": "display_data",
          "data": {
            "text/plain": [
              "<Figure size 432x288 with 1 Axes>"
            ],
            "image/png": "[encoded data removed]"
          },
          "metadata": {
            "needs_background": "light"
          }
        }
      ]
    }
  ]
}